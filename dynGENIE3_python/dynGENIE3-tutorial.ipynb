{
 "cells": [
  {
   "cell_type": "markdown",
   "metadata": {},
   "source": [
    "# dyGENIE3 tutorial\n",
    "\n",
    "\n",
    "## Description\n",
    "\n",
    "Notebook tutorial based on documentation. "
   ]
  },
  {
   "cell_type": "markdown",
   "metadata": {},
   "source": [
    "# Setup\n",
    "\n",
    "## Library import\n",
    "We import all the required Python libraries"
   ]
  },
  {
   "cell_type": "code",
   "execution_count": 1,
   "metadata": {},
   "outputs": [],
   "source": [
    "import numpy as np\n",
    "import pickle"
   ]
  },
  {
   "cell_type": "code",
   "execution_count": 2,
   "metadata": {
    "ExecuteTime": {
     "end_time": "2023-03-18T15:38:21.065829Z",
     "start_time": "2023-03-18T15:38:20.877760Z"
    }
   },
   "outputs": [
    {
     "data": {
      "text/plain": [
       "'2024-08-13'"
      ]
     },
     "execution_count": 2,
     "metadata": {},
     "output_type": "execute_result"
    }
   ],
   "source": [
    "# IO\n",
    "from pathlib import Path\n",
    "\n",
    "# Data manipulation\n",
    "import pandas as pd\n",
    "\n",
    "# Visualizations\n",
    "import matplotlib as plt\n",
    "import matplotlib as mpl\n",
    "\n",
    "import seaborn as sns\n",
    "\n",
    "\n",
    "# handy / other\n",
    "from collections import defaultdict\n",
    "import re, os, time\n",
    "from importlib import reload\n",
    "from datetime import datetime\n",
    "today = datetime.today().strftime('%Y-%m-%d'); today"
   ]
  },
  {
   "cell_type": "markdown",
   "metadata": {},
   "source": [
    "## Local library import\n",
    "We import all the required local libraries libraries"
   ]
  },
  {
   "cell_type": "code",
   "execution_count": 3,
   "metadata": {
    "ExecuteTime": {
     "end_time": "2019-06-16T14:44:51.041573Z",
     "start_time": "2019-06-16T14:44:50.878543Z"
    }
   },
   "outputs": [],
   "source": [
    "from dynGENIE3 import dynGENIE3"
   ]
  },
  {
   "cell_type": "markdown",
   "metadata": {},
   "source": [
    "\n",
    "# Running dynGENIE3\n"
   ]
  },
  {
   "cell_type": "markdown",
   "metadata": {},
   "source": [
    "## Example data"
   ]
  },
  {
   "cell_type": "code",
   "execution_count": 4,
   "metadata": {},
   "outputs": [],
   "source": [
    "f = open('./TS_data.pkl','rb')\n",
    "(TS_data, time_points, decay_rates, gene_names) = pickle.load(f)\n",
    "f.close()"
   ]
  },
  {
   "cell_type": "markdown",
   "metadata": {},
   "source": [
    "## Run dynGENIE3 with its default parameters"
   ]
  },
  {
   "cell_type": "code",
   "execution_count": 5,
   "metadata": {},
   "outputs": [
    {
     "name": "stdout",
     "output_type": "stream",
     "text": [
      "Tree method: RF\n",
      "K: sqrt\n",
      "Number of trees: 1000\n",
      "alpha min: 0.0020247678471533486\n",
      "alpha max: 0.025135982338199504\n",
      "\n",
      "\n",
      "running single threaded jobs\n",
      "Gene 1/10...\n",
      "Gene 2/10...\n",
      "Gene 3/10...\n",
      "Gene 4/10...\n",
      "Gene 5/10...\n",
      "Gene 6/10...\n",
      "Gene 7/10...\n",
      "Gene 8/10...\n",
      "Gene 9/10...\n",
      "Gene 10/10...\n",
      "Elapsed time: 8.87 seconds\n"
     ]
    }
   ],
   "source": [
    "(VIM, alphas, prediction_score, stability_score, treeEstimators) = dynGENIE3(TS_data, time_points)"
   ]
  },
  {
   "cell_type": "markdown",
   "metadata": {},
   "source": [
    "## Set the values of the decay rates"
   ]
  },
  {
   "cell_type": "code",
   "execution_count": 6,
   "metadata": {},
   "outputs": [
    {
     "name": "stdout",
     "output_type": "stream",
     "text": [
      "Tree method: RF\n",
      "K: sqrt\n",
      "Number of trees: 1000\n",
      "alpha min: 0.02\n",
      "alpha max: 0.02\n",
      "\n",
      "\n",
      "running single threaded jobs\n",
      "Gene 1/10...\n",
      "Gene 2/10...\n",
      "Gene 3/10...\n",
      "Gene 4/10...\n",
      "Gene 5/10...\n",
      "Gene 6/10...\n",
      "Gene 7/10...\n",
      "Gene 8/10...\n",
      "Gene 9/10...\n",
      "Gene 10/10...\n",
      "Elapsed time: 7.91 seconds\n"
     ]
    }
   ],
   "source": [
    "(VIM2, alphas2, prediction_score, stability_score, treeEstimators) = dynGENIE3(TS_data,time_points,alpha=decay_rates)"
   ]
  },
  {
   "cell_type": "markdown",
   "metadata": {},
   "source": [
    "## Run dynGENIE3 on time series data and steady-state data"
   ]
  },
  {
   "cell_type": "code",
   "execution_count": 7,
   "metadata": {},
   "outputs": [],
   "source": [
    "# Load some steady-state data\n",
    "SS_data = np.loadtxt('SS_data.txt',skiprows=1)"
   ]
  },
  {
   "cell_type": "code",
   "execution_count": 8,
   "metadata": {},
   "outputs": [
    {
     "name": "stdout",
     "output_type": "stream",
     "text": [
      "Tree method: RF\n",
      "K: sqrt\n",
      "Number of trees: 1000\n",
      "alpha min: 0.0020247678471533486\n",
      "alpha max: 0.025135982338199504\n",
      "\n",
      "\n",
      "running single threaded jobs\n",
      "Gene 1/10...\n",
      "Gene 2/10...\n",
      "Gene 3/10...\n",
      "Gene 4/10...\n",
      "Gene 5/10...\n",
      "Gene 6/10...\n",
      "Gene 7/10...\n",
      "Gene 8/10...\n",
      "Gene 9/10...\n",
      "Gene 10/10...\n",
      "Elapsed time: 10.97 seconds\n"
     ]
    }
   ],
   "source": [
    "(VIM3, alphas3, prediction_score, stability_score, treeEstimators) = dynGENIE3(TS_data,time_points,SS_data=SS_data)"
   ]
  },
  {
   "cell_type": "markdown",
   "metadata": {},
   "source": [
    "## Restrict the candidate regulators to a subset of genes"
   ]
  },
  {
   "cell_type": "code",
   "execution_count": 9,
   "metadata": {},
   "outputs": [
    {
     "name": "stdout",
     "output_type": "stream",
     "text": [
      "Tree method: RF\n",
      "K: sqrt\n",
      "Number of trees: 1000\n",
      "alpha min: 0.0020247678471533486\n",
      "alpha max: 0.025135982338199504\n",
      "\n",
      "\n",
      "running single threaded jobs\n",
      "Gene 1/10...\n",
      "Gene 2/10...\n",
      "Gene 3/10...\n",
      "Gene 4/10...\n",
      "Gene 5/10...\n",
      "Gene 6/10...\n",
      "Gene 7/10...\n",
      "Gene 8/10...\n",
      "Gene 9/10...\n",
      "Gene 10/10...\n",
      "Elapsed time: 7.79 seconds\n"
     ]
    }
   ],
   "source": [
    "# Genes that are used as candidate regulators\n",
    "regulators = ['CD19', 'CDH17','RAD51','OSR2','TBX3']\n",
    "(VIM4, alphas4, prediction_score, stability_score, treeEstimators) = dynGENIE3(TS_data,time_points, gene_names=gene_names,regulators=regulators)"
   ]
  },
  {
   "cell_type": "markdown",
   "metadata": {},
   "source": [
    "## Change the tree-based method and its settings"
   ]
  },
  {
   "cell_type": "code",
   "execution_count": 10,
   "metadata": {},
   "outputs": [
    {
     "name": "stdout",
     "output_type": "stream",
     "text": [
      "Tree method: ET\n",
      "K: 7\n",
      "Number of trees: 50\n",
      "alpha min: 0.0020247678471533486\n",
      "alpha max: 0.025135982338199504\n",
      "\n",
      "\n",
      "running single threaded jobs\n",
      "Gene 1/10...\n",
      "Gene 2/10...\n",
      "Gene 3/10...\n",
      "Gene 4/10...\n",
      "Gene 5/10...\n",
      "Gene 6/10...\n",
      "Gene 7/10...\n",
      "Gene 8/10...\n",
      "Gene 9/10...\n",
      "Gene 10/10...\n",
      "Elapsed time: 0.29 seconds\n"
     ]
    }
   ],
   "source": [
    "# Use Extra-Trees method\n",
    "tree_method='ET'\n",
    "# Number of randomly chosen candidate regulators at each node of a tree\n",
    "K = 7\n",
    "# Number of trees per ensemble\n",
    "ntrees = 50\n",
    "# Run the method with these settings\n",
    "(VIM5, alphas5, prediction_score, stability_score, treeEstimators) = dynGENIE3(TS_data,time_points, tree_method=tree_method,K=K,ntrees=ntrees)"
   ]
  },
  {
   "cell_type": "markdown",
   "metadata": {},
   "source": [
    "## Compute the ranking quality scores"
   ]
  },
  {
   "cell_type": "code",
   "execution_count": 11,
   "metadata": {},
   "outputs": [
    {
     "name": "stdout",
     "output_type": "stream",
     "text": [
      "Tree method: RF\n",
      "K: sqrt\n",
      "Number of trees: 1000\n",
      "alpha min: 0.0020247678471533486\n",
      "alpha max: 0.025135982338199504\n",
      "\n",
      "\n",
      "running single threaded jobs\n",
      "Gene 1/10...\n",
      "Gene 2/10...\n",
      "Gene 3/10...\n",
      "Gene 4/10...\n",
      "Gene 5/10...\n",
      "Gene 6/10...\n",
      "Gene 7/10...\n",
      "Gene 8/10...\n",
      "Gene 9/10...\n",
      "Gene 10/10...\n",
      "Elapsed time: 11.53 seconds\n"
     ]
    }
   ],
   "source": [
    "# The prediction score can only be computed when using Random Forests\n",
    "tree_method = 'RF'\n",
    "(VIM6, alphas6, prediction_score, stability_score, treeEstimators) = dynGENIE3(TS_data,time_points, tree_method=tree_method,compute_quality_scores=True)"
   ]
  },
  {
   "cell_type": "markdown",
   "metadata": {},
   "source": [
    "## Save the tree models"
   ]
  },
  {
   "cell_type": "code",
   "execution_count": 12,
   "metadata": {},
   "outputs": [
    {
     "name": "stdout",
     "output_type": "stream",
     "text": [
      "Tree method: RF\n",
      "K: sqrt\n",
      "Number of trees: 1000\n",
      "alpha min: 0.0020247678471533486\n",
      "alpha max: 0.025135982338199504\n",
      "\n",
      "\n",
      "running single threaded jobs\n",
      "Gene 1/10...\n",
      "Gene 2/10...\n",
      "Gene 3/10...\n",
      "Gene 4/10...\n",
      "Gene 5/10...\n",
      "Gene 6/10...\n",
      "Gene 7/10...\n",
      "Gene 8/10...\n",
      "Gene 9/10...\n",
      "Gene 10/10...\n",
      "Elapsed time: 7.75 seconds\n"
     ]
    }
   ],
   "source": [
    "(VIM7, alphas7, prediction_score, stability_score, treeEstimators) = dynGENIE3(TS_data,time_points,save_models=True)"
   ]
  },
  {
   "cell_type": "markdown",
   "metadata": {},
   "source": [
    "## Predict gene expression profiles in double knockout experiments"
   ]
  },
  {
   "cell_type": "code",
   "execution_count": 13,
   "metadata": {},
   "outputs": [
    {
     "name": "stdout",
     "output_type": "stream",
     "text": [
      "Tree method: RF\n",
      "K: sqrt\n",
      "Number of trees: 1000\n",
      "alpha min: 0.0020247678471533486\n",
      "alpha max: 0.025135982338199504\n",
      "\n",
      "\n",
      "running single threaded jobs\n",
      "Gene 1/10...\n",
      "Gene 2/10...\n",
      "Gene 3/10...\n",
      "Gene 4/10...\n",
      "Gene 5/10...\n",
      "Gene 6/10...\n",
      "Gene 7/10...\n",
      "Gene 8/10...\n",
      "Gene 9/10...\n",
      "Gene 10/10...\n",
      "Elapsed time: 7.61 seconds\n"
     ]
    }
   ],
   "source": [
    "# Learn models\n",
    "(VIM8, alphas8, prediction_score, stability_score, treeEstimators) = dynGENIE3(TS_data,time_points,  gene_names=gene_names,regulators=regulators,save_models=True)"
   ]
  },
  {
   "cell_type": "code",
   "execution_count": 14,
   "metadata": {},
   "outputs": [],
   "source": [
    "WT_data = np.load('WT_data.npy')"
   ]
  },
  {
   "cell_type": "code",
   "execution_count": 15,
   "metadata": {},
   "outputs": [],
   "source": [
    "from dynGENIE3 import dynGENIE3_predict_doubleKO"
   ]
  },
  {
   "cell_type": "code",
   "execution_count": 16,
   "metadata": {},
   "outputs": [
    {
     "name": "stdout",
     "output_type": "stream",
     "text": [
      "Predicting time series...\n",
      "Elapsed time: 2.73 seconds\n"
     ]
    }
   ],
   "source": [
    "TS_predict = dynGENIE3_predict_doubleKO(WT_data,treeEstimators, alphas8, gene_names,regulators,'CDH17','CD19',10,50)"
   ]
  },
  {
   "cell_type": "markdown",
   "metadata": {},
   "source": [
    "## Write the predictions"
   ]
  },
  {
   "cell_type": "code",
   "execution_count": 17,
   "metadata": {},
   "outputs": [],
   "source": [
    "from dynGENIE3 import get_link_list"
   ]
  },
  {
   "cell_type": "markdown",
   "metadata": {},
   "source": [
    "### Show the names of the genes"
   ]
  },
  {
   "cell_type": "code",
   "execution_count": 18,
   "metadata": {},
   "outputs": [
    {
     "name": "stdout",
     "output_type": "stream",
     "text": [
      "CREB5 GATA5 0.3864550365898561\n",
      "TBX3 XRCC2 0.27769405837712835\n",
      "GATA5 CREB5 0.2692005681065455\n",
      "CREB5 CD93 0.24202933446478245\n",
      "GATA5 CD93 0.21355663120517449\n",
      "CD93 GATA5 0.21170341789536698\n",
      "CREB5 RAD51 0.2094564213584338\n",
      "CD93 CREB5 0.18824140549576798\n",
      "CREB5 XRCC2 0.18781558263620302\n",
      "XRCC2 TBX3 0.18762976397348094\n",
      "OSR2 ZNF394 0.17930275380415153\n",
      "ZNF394 OSR2 0.17376288630909179\n",
      "CD93 CD19 0.15587608174961215\n",
      "GATA5 XRCC2 0.15302519860117017\n",
      "RAD51 CD19 0.15017391683908773\n",
      "CD93 OSR2 0.1391942418070537\n",
      "GATA5 OSR2 0.13343785400556535\n",
      "CREB5 TBX3 0.1307764224471311\n",
      "CREB5 CDH17 0.1294070441004252\n",
      "CD93 ZNF394 0.1293640423919777\n",
      "CDH17 ZNF394 0.12827019358541608\n",
      "CDH17 TBX3 0.12721823653013478\n",
      "TBX3 CREB5 0.12671238437543414\n",
      "CD93 CDH17 0.126677912965819\n",
      "GATA5 TBX3 0.1261311379758978\n",
      "OSR2 CD19 0.12464873157274785\n",
      "TBX3 CDH17 0.12404675957047775\n",
      "CDH17 CD93 0.11948184414101067\n",
      "CD19 RAD51 0.11780056507446077\n",
      "CREB5 CD19 0.11713395990710948\n",
      "TBX3 GATA5 0.11602328741561012\n",
      "CD19 CDH17 0.11533652147222265\n",
      "CREB5 OSR2 0.11458343859615981\n",
      "CDH17 CD19 0.11446985794282381\n",
      "OSR2 RAD51 0.1110607653559567\n",
      "RAD51 CDH17 0.11102170502253313\n",
      "XRCC2 OSR2 0.11077280132346694\n",
      "GATA5 CDH17 0.11022669556062825\n",
      "CD19 ZNF394 0.10985222614023707\n",
      "TBX3 ZNF394 0.10984531712467561\n",
      "ZNF394 RAD51 0.10849009229262731\n",
      "RAD51 TBX3 0.10680029762116425\n",
      "XRCC2 CD19 0.10352549433953483\n",
      "XRCC2 CREB5 0.10212967446378032\n",
      "CDH17 OSR2 0.1010172124066403\n",
      "GATA5 RAD51 0.10021783907046507\n",
      "RAD51 ZNF394 0.09779112522401788\n",
      "CD93 TBX3 0.0961568534125944\n",
      "OSR2 CDH17 0.09572673679697463\n",
      "CDH17 RAD51 0.09549532213564663\n",
      "CREB5 ZNF394 0.09530896461680073\n",
      "ZNF394 CDH17 0.09504411193725172\n",
      "CD93 RAD51 0.09325505596855556\n",
      "XRCC2 CDH17 0.09251251257366758\n",
      "XRCC2 RAD51 0.08556839881684826\n",
      "CD19 TBX3 0.08492213370275689\n",
      "XRCC2 GATA5 0.0837364396287932\n",
      "XRCC2 CD93 0.08287229627364834\n",
      "RAD51 CD93 0.08096465024955939\n",
      "TBX3 OSR2 0.08066363489330138\n",
      "CD19 OSR2 0.08064182217467114\n",
      "OSR2 TBX3 0.0805261512708722\n",
      "GATA5 CD19 0.07928335628223537\n",
      "TBX3 CD19 0.07888165555633746\n",
      "TBX3 RAD51 0.07865553992700589\n",
      "TBX3 CD93 0.07828008900089484\n",
      "GATA5 ZNF394 0.07768297658631411\n",
      "ZNF394 CD19 0.0760069458105114\n",
      "ZNF394 CD93 0.07529926555877677\n",
      "RAD51 XRCC2 0.07513044971496444\n",
      "CD19 CREB5 0.07374385730443285\n",
      "XRCC2 ZNF394 0.07258240052640914\n",
      "CD93 XRCC2 0.07241413490235428\n",
      "ZNF394 XRCC2 0.07086469651114383\n",
      "CD19 XRCC2 0.07039267608107466\n",
      "OSR2 CREB5 0.06943834381945047\n",
      "RAD51 OSR2 0.06592610848404962\n",
      "CDH17 CREB5 0.0640125920858155\n",
      "OSR2 CD93 0.06128702271257072\n",
      "ZNF394 TBX3 0.059839003065967546\n",
      "CDH17 XRCC2 0.05635781841098608\n",
      "RAD51 CREB5 0.05610959496055067\n",
      "ZNF394 CREB5 0.05041157938822255\n",
      "CD19 GATA5 0.050189981920311266\n",
      "RAD51 GATA5 0.04791261205552525\n",
      "CD19 CD93 0.046228866393582334\n",
      "OSR2 GATA5 0.0417758633492408\n",
      "OSR2 XRCC2 0.0363053847649753\n",
      "CDH17 GATA5 0.0353768752511933\n",
      "ZNF394 GATA5 0.02682648589410298\n"
     ]
    }
   ],
   "source": [
    "for s, t, w in get_link_list(VIM,gene_names=gene_names):\n",
    "    print(s, t, w)"
   ]
  },
  {
   "cell_type": "markdown",
   "metadata": {},
   "source": [
    "### Show only the links that are directed from the candidate regulators"
   ]
  },
  {
   "cell_type": "code",
   "execution_count": 19,
   "metadata": {},
   "outputs": [
    {
     "name": "stdout",
     "output_type": "stream",
     "text": [
      "TBX3 XRCC2 0.27769405837712835\n",
      "OSR2 ZNF394 0.17930275380415153\n",
      "RAD51 CD19 0.15017391683908773\n",
      "CDH17 ZNF394 0.12827019358541608\n",
      "CDH17 TBX3 0.12721823653013478\n",
      "TBX3 CREB5 0.12671238437543414\n",
      "OSR2 CD19 0.12464873157274785\n",
      "TBX3 CDH17 0.12404675957047775\n",
      "CDH17 CD93 0.11948184414101067\n",
      "CD19 RAD51 0.11780056507446077\n",
      "TBX3 GATA5 0.11602328741561012\n",
      "CD19 CDH17 0.11533652147222265\n",
      "CDH17 CD19 0.11446985794282381\n",
      "OSR2 RAD51 0.1110607653559567\n",
      "RAD51 CDH17 0.11102170502253313\n",
      "CD19 ZNF394 0.10985222614023707\n",
      "TBX3 ZNF394 0.10984531712467561\n",
      "RAD51 TBX3 0.10680029762116425\n",
      "CDH17 OSR2 0.1010172124066403\n",
      "RAD51 ZNF394 0.09779112522401788\n",
      "OSR2 CDH17 0.09572673679697463\n",
      "CDH17 RAD51 0.09549532213564663\n",
      "CD19 TBX3 0.08492213370275689\n",
      "RAD51 CD93 0.08096465024955939\n",
      "TBX3 OSR2 0.08066363489330138\n",
      "CD19 OSR2 0.08064182217467114\n",
      "OSR2 TBX3 0.0805261512708722\n",
      "TBX3 CD19 0.07888165555633746\n",
      "TBX3 RAD51 0.07865553992700589\n",
      "TBX3 CD93 0.07828008900089484\n",
      "RAD51 XRCC2 0.07513044971496444\n",
      "CD19 CREB5 0.07374385730443285\n",
      "CD19 XRCC2 0.07039267608107466\n",
      "OSR2 CREB5 0.06943834381945047\n",
      "RAD51 OSR2 0.06592610848404962\n",
      "CDH17 CREB5 0.0640125920858155\n",
      "OSR2 CD93 0.06128702271257072\n",
      "CDH17 XRCC2 0.05635781841098608\n",
      "RAD51 CREB5 0.05610959496055067\n",
      "CD19 GATA5 0.050189981920311266\n",
      "RAD51 GATA5 0.04791261205552525\n",
      "CD19 CD93 0.046228866393582334\n",
      "OSR2 GATA5 0.0417758633492408\n",
      "OSR2 XRCC2 0.0363053847649753\n",
      "CDH17 GATA5 0.0353768752511933\n"
     ]
    }
   ],
   "source": [
    "for s, t, w in get_link_list(VIM,gene_names=gene_names,regulators=regulators):\n",
    "    print(s, t, w)"
   ]
  },
  {
   "cell_type": "markdown",
   "metadata": {},
   "source": [
    "### Show the first 5 links only"
   ]
  },
  {
   "cell_type": "code",
   "execution_count": 20,
   "metadata": {},
   "outputs": [
    {
     "name": "stdout",
     "output_type": "stream",
     "text": [
      "TBX3 XRCC2 0.27769405837712835\n",
      "OSR2 ZNF394 0.17930275380415153\n",
      "RAD51 CD19 0.15017391683908773\n",
      "CDH17 ZNF394 0.12827019358541608\n",
      "CDH17 TBX3 0.12721823653013478\n"
     ]
    }
   ],
   "source": [
    "for s, t, w in get_link_list(VIM,gene_names=gene_names,regulators=regulators,maxcount=5):\n",
    "    print(s, t, w)"
   ]
  },
  {
   "cell_type": "markdown",
   "metadata": {},
   "source": [
    "### Write the predicted links in a file"
   ]
  },
  {
   "cell_type": "code",
   "execution_count": 21,
   "metadata": {},
   "outputs": [
    {
     "name": "stdout",
     "output_type": "stream",
     "text": [
      "Edges written to ranking.txt\n"
     ]
    }
   ],
   "source": [
    "from dynGENIE3 import write_link_list\n",
    "f = write_link_list('ranking.txt', VIM,gene_names=gene_names)"
   ]
  },
  {
   "cell_type": "code",
   "execution_count": null,
   "metadata": {},
   "outputs": [],
   "source": []
  }
 ],
 "metadata": {
  "kernelspec": {
   "display_name": "Python [conda env:python-env]",
   "language": "python",
   "name": "conda-env-python-env-py"
  },
  "language_info": {
   "codemirror_mode": {
    "name": "ipython",
    "version": 3
   },
   "file_extension": ".py",
   "mimetype": "text/x-python",
   "name": "python",
   "nbconvert_exporter": "python",
   "pygments_lexer": "ipython3",
   "version": "3.10.13"
  },
  "pycharm": {
   "stem_cell": {
    "cell_type": "raw",
    "metadata": {
     "collapsed": false
    },
    "source": []
   }
  },
  "toc": {
   "base_numbering": 1,
   "nav_menu": {},
   "number_sections": true,
   "sideBar": true,
   "skip_h1_title": false,
   "title_cell": "Table of Contents",
   "title_sidebar": "Contents",
   "toc_cell": false,
   "toc_position": {},
   "toc_section_display": true,
   "toc_window_display": true
  },
  "varInspector": {
   "cols": {
    "lenName": 16,
    "lenType": 16,
    "lenVar": 40
   },
   "kernels_config": {
    "python": {
     "delete_cmd_postfix": "",
     "delete_cmd_prefix": "del ",
     "library": "var_list.py",
     "varRefreshCmd": "print(var_dic_list())"
    },
    "r": {
     "delete_cmd_postfix": ") ",
     "delete_cmd_prefix": "rm(",
     "library": "var_list.r",
     "varRefreshCmd": "cat(var_dic_list()) "
    }
   },
   "types_to_exclude": [
    "module",
    "function",
    "builtin_function_or_method",
    "instance",
    "_Feature"
   ],
   "window_display": false
  }
 },
 "nbformat": 4,
 "nbformat_minor": 4
}
