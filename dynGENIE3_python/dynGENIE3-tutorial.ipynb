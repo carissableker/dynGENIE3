{
 "cells": [
  {
   "cell_type": "markdown",
   "metadata": {},
   "source": [
    "# dyGENIE3 tutorial\n",
    "\n",
    "\n",
    "## Description\n",
    "\n",
    "Notebook tutorial based on documentation. "
   ]
  },
  {
   "cell_type": "markdown",
   "metadata": {},
   "source": [
    "# Setup\n",
    "\n",
    "## Library import\n",
    "We import all the required Python libraries"
   ]
  },
  {
   "cell_type": "code",
   "execution_count": 1,
   "metadata": {},
   "outputs": [],
   "source": [
    "import numpy as np\n",
    "import pickle"
   ]
  },
  {
   "cell_type": "code",
   "execution_count": 2,
   "metadata": {
    "ExecuteTime": {
     "end_time": "2023-03-18T15:38:21.065829Z",
     "start_time": "2023-03-18T15:38:20.877760Z"
    }
   },
   "outputs": [
    {
     "data": {
      "text/plain": [
       "'2024-08-12'"
      ]
     },
     "execution_count": 2,
     "metadata": {},
     "output_type": "execute_result"
    }
   ],
   "source": [
    "# IO\n",
    "from pathlib import Path\n",
    "\n",
    "# Data manipulation\n",
    "import pandas as pd\n",
    "\n",
    "# Visualizations\n",
    "import matplotlib as plt\n",
    "import matplotlib as mpl\n",
    "\n",
    "import seaborn as sns\n",
    "\n",
    "\n",
    "# handy / other\n",
    "from collections import defaultdict\n",
    "import re, os, time\n",
    "from importlib import reload\n",
    "from datetime import datetime\n",
    "today = datetime.today().strftime('%Y-%m-%d'); today"
   ]
  },
  {
   "cell_type": "markdown",
   "metadata": {},
   "source": [
    "## Local library import\n",
    "We import all the required local libraries libraries"
   ]
  },
  {
   "cell_type": "code",
   "execution_count": 3,
   "metadata": {
    "ExecuteTime": {
     "end_time": "2019-06-16T14:44:51.041573Z",
     "start_time": "2019-06-16T14:44:50.878543Z"
    }
   },
   "outputs": [],
   "source": [
    "from dynGENIE3 import dynGENIE3"
   ]
  },
  {
   "cell_type": "code",
   "execution_count": 4,
   "metadata": {},
   "outputs": [
    {
     "name": "stdout",
     "output_type": "stream",
     "text": [
      "Tree method: RF\n",
      "K: sqrt\n",
      "Number of trees: 1000\n",
      "alpha min: 0.0020247678471533486\n",
      "alpha max: 0.025135982338199504\n",
      "\n",
      "\n",
      "running single threaded jobs\n",
      "Gene 1/10...\n",
      "Gene 2/10...\n",
      "Gene 3/10...\n",
      "Gene 4/10...\n",
      "Gene 5/10...\n",
      "Gene 6/10...\n",
      "Gene 7/10...\n",
      "Gene 8/10...\n",
      "Gene 9/10...\n",
      "Gene 10/10...\n",
      "Elapsed time: 12.77 seconds\n"
     ]
    }
   ],
   "source": [
    "f = open('./TS_data.pkl','rb')\n",
    "(TS_data, time_points, decay_rates, gene_names) = pickle.load(f)\n",
    "f.close()\n",
    "\n",
    "# The prediction score can only be computed when using Random Forests\n",
    "tree_method = 'RF'\n",
    "(VIM6, alphas6, prediction_score, stability_score, treeEstimators) = dynGENIE3(TS_data,time_points, tree_method=tree_method,compute_quality_scores=True)"
   ]
  },
  {
   "cell_type": "markdown",
   "metadata": {},
   "source": [
    "\n",
    "# Running dynGENIE3\n"
   ]
  },
  {
   "cell_type": "markdown",
   "metadata": {},
   "source": [
    "## Example data"
   ]
  },
  {
   "cell_type": "code",
   "execution_count": 6,
   "metadata": {},
   "outputs": [],
   "source": [
    "f = open('./TS_data.pkl','rb')\n",
    "(TS_data, time_points, decay_rates, gene_names) = pickle.load(f)\n",
    "f.close()"
   ]
  },
  {
   "cell_type": "markdown",
   "metadata": {},
   "source": [
    "## Run dynGENIE3 with its default parameters"
   ]
  },
  {
   "cell_type": "code",
   "execution_count": 7,
   "metadata": {},
   "outputs": [
    {
     "name": "stdout",
     "output_type": "stream",
     "text": [
      "Tree method: RF\n",
      "K: sqrt\n",
      "Number of trees: 1000\n",
      "alpha min: 0.0020247678471533486\n",
      "alpha max: 0.025135982338199504\n",
      "\n",
      "\n",
      "running single threaded jobs\n",
      "Gene 1/10...\n",
      "Gene 2/10...\n",
      "Gene 3/10...\n",
      "Gene 4/10...\n",
      "Gene 5/10...\n",
      "Gene 6/10...\n",
      "Gene 7/10...\n",
      "Gene 8/10...\n",
      "Gene 9/10...\n",
      "Gene 10/10...\n",
      "Elapsed time: 8.53 seconds\n"
     ]
    }
   ],
   "source": [
    "(VIM, alphas, prediction_score, stability_score, treeEstimators) = dynGENIE3(TS_data, time_points)"
   ]
  },
  {
   "cell_type": "markdown",
   "metadata": {},
   "source": [
    "## Set the values of the decay rates"
   ]
  },
  {
   "cell_type": "code",
   "execution_count": 8,
   "metadata": {},
   "outputs": [
    {
     "name": "stdout",
     "output_type": "stream",
     "text": [
      "Tree method: RF\n",
      "K: sqrt\n",
      "Number of trees: 1000\n",
      "alpha min: 0.02\n",
      "alpha max: 0.02\n",
      "\n",
      "\n",
      "running single threaded jobs\n",
      "Gene 1/10...\n",
      "Gene 2/10...\n",
      "Gene 3/10...\n",
      "Gene 4/10...\n",
      "Gene 5/10...\n",
      "Gene 6/10...\n",
      "Gene 7/10...\n",
      "Gene 8/10...\n",
      "Gene 9/10...\n",
      "Gene 10/10...\n",
      "Elapsed time: 8.43 seconds\n"
     ]
    }
   ],
   "source": [
    "(VIM2, alphas2, prediction_score, stability_score, treeEstimators) = dynGENIE3(TS_data,time_points,alpha=decay_rates)"
   ]
  },
  {
   "cell_type": "markdown",
   "metadata": {},
   "source": [
    "## Run dynGENIE3 on time series data and steady-state data"
   ]
  },
  {
   "cell_type": "code",
   "execution_count": 9,
   "metadata": {},
   "outputs": [],
   "source": [
    "# Load some steady-state data\n",
    "SS_data = np.loadtxt('SS_data.txt',skiprows=1)"
   ]
  },
  {
   "cell_type": "code",
   "execution_count": 10,
   "metadata": {},
   "outputs": [
    {
     "name": "stdout",
     "output_type": "stream",
     "text": [
      "Tree method: RF\n",
      "K: sqrt\n",
      "Number of trees: 1000\n",
      "alpha min: 0.0020247678471533486\n",
      "alpha max: 0.025135982338199504\n",
      "\n",
      "\n",
      "running single threaded jobs\n",
      "Gene 1/10...\n",
      "Gene 2/10...\n",
      "Gene 3/10...\n",
      "Gene 4/10...\n",
      "Gene 5/10...\n",
      "Gene 6/10...\n",
      "Gene 7/10...\n",
      "Gene 8/10...\n",
      "Gene 9/10...\n",
      "Gene 10/10...\n",
      "Elapsed time: 11.98 seconds\n"
     ]
    }
   ],
   "source": [
    "(VIM3, alphas3, prediction_score, stability_score, treeEstimators) = dynGENIE3(TS_data,time_points,SS_data=SS_data)"
   ]
  },
  {
   "cell_type": "markdown",
   "metadata": {},
   "source": [
    "## Restrict the candidate regulators to a subset of genes"
   ]
  },
  {
   "cell_type": "code",
   "execution_count": 11,
   "metadata": {},
   "outputs": [
    {
     "name": "stdout",
     "output_type": "stream",
     "text": [
      "Tree method: RF\n",
      "K: sqrt\n",
      "Number of trees: 1000\n",
      "alpha min: 0.0020247678471533486\n",
      "alpha max: 0.025135982338199504\n",
      "\n",
      "\n",
      "running single threaded jobs\n",
      "Gene 1/10...\n",
      "Gene 2/10...\n",
      "Gene 3/10...\n",
      "Gene 4/10...\n",
      "Gene 5/10...\n",
      "Gene 6/10...\n",
      "Gene 7/10...\n",
      "Gene 8/10...\n",
      "Gene 9/10...\n",
      "Gene 10/10...\n",
      "Elapsed time: 8.20 seconds\n"
     ]
    }
   ],
   "source": [
    "# Genes that are used as candidate regulators\n",
    "regulators = ['CD19', 'CDH17','RAD51','OSR2','TBX3']\n",
    "(VIM4, alphas4, prediction_score, stability_score, treeEstimators) = dynGENIE3(TS_data,time_points, gene_names=gene_names,regulators=regulators)"
   ]
  },
  {
   "cell_type": "markdown",
   "metadata": {},
   "source": [
    "## Change the tree-based method and its settings"
   ]
  },
  {
   "cell_type": "code",
   "execution_count": 12,
   "metadata": {},
   "outputs": [
    {
     "name": "stdout",
     "output_type": "stream",
     "text": [
      "Tree method: ET\n",
      "K: 7\n",
      "Number of trees: 50\n",
      "alpha min: 0.0020247678471533486\n",
      "alpha max: 0.025135982338199504\n",
      "\n",
      "\n",
      "running single threaded jobs\n",
      "Gene 1/10...\n",
      "Gene 2/10...\n",
      "Gene 3/10...\n",
      "Gene 4/10...\n",
      "Gene 5/10...\n",
      "Gene 6/10...\n",
      "Gene 7/10...\n",
      "Gene 8/10...\n",
      "Gene 9/10...\n",
      "Gene 10/10...\n",
      "Elapsed time: 0.29 seconds\n"
     ]
    }
   ],
   "source": [
    "# Use Extra-Trees method\n",
    "tree_method='ET'\n",
    "# Number of randomly chosen candidate regulators at each node of a tree\n",
    "K = 7\n",
    "# Number of trees per ensemble\n",
    "ntrees = 50\n",
    "# Run the method with these settings\n",
    "(VIM5, alphas5, prediction_score, stability_score, treeEstimators) = dynGENIE3(TS_data,time_points, tree_method=tree_method,K=K,ntrees=ntrees)"
   ]
  },
  {
   "cell_type": "markdown",
   "metadata": {},
   "source": [
    "## Compute the ranking quality scores"
   ]
  },
  {
   "cell_type": "code",
   "execution_count": 13,
   "metadata": {},
   "outputs": [
    {
     "name": "stdout",
     "output_type": "stream",
     "text": [
      "Tree method: RF\n",
      "K: sqrt\n",
      "Number of trees: 1000\n",
      "alpha min: 0.0020247678471533486\n",
      "alpha max: 0.025135982338199504\n",
      "\n",
      "\n",
      "running single threaded jobs\n",
      "Gene 1/10...\n",
      "Gene 2/10...\n",
      "Gene 3/10...\n",
      "Gene 4/10...\n",
      "Gene 5/10...\n",
      "Gene 6/10...\n",
      "Gene 7/10...\n",
      "Gene 8/10...\n",
      "Gene 9/10...\n",
      "Gene 10/10...\n",
      "Elapsed time: 12.65 seconds\n"
     ]
    }
   ],
   "source": [
    "# The prediction score can only be computed when using Random Forests\n",
    "tree_method = 'RF'\n",
    "(VIM6, alphas6, prediction_score, stability_score, treeEstimators) = dynGENIE3(TS_data,time_points, tree_method=tree_method,compute_quality_scores=True)"
   ]
  },
  {
   "cell_type": "markdown",
   "metadata": {},
   "source": [
    "## Save the tree models"
   ]
  },
  {
   "cell_type": "code",
   "execution_count": null,
   "metadata": {},
   "outputs": [],
   "source": [
    "VIM7, alphas7, prediction_score, stability_score, treeEstimators) = dynGENIE3(TS_data,time_points,save_models=True)"
   ]
  },
  {
   "cell_type": "markdown",
   "metadata": {},
   "source": [
    "## Predict gene expression profiles in double knockout experiments"
   ]
  },
  {
   "cell_type": "code",
   "execution_count": 14,
   "metadata": {},
   "outputs": [
    {
     "name": "stdout",
     "output_type": "stream",
     "text": [
      "Tree method: RF\n",
      "K: sqrt\n",
      "Number of trees: 1000\n",
      "alpha min: 0.0020247678471533486\n",
      "alpha max: 0.025135982338199504\n",
      "\n",
      "\n",
      "running single threaded jobs\n",
      "Gene 1/10...\n",
      "Gene 2/10...\n",
      "Gene 3/10...\n",
      "Gene 4/10...\n",
      "Gene 5/10...\n",
      "Gene 6/10...\n",
      "Gene 7/10...\n",
      "Gene 8/10...\n",
      "Gene 9/10...\n",
      "Gene 10/10...\n",
      "Elapsed time: 8.79 seconds\n"
     ]
    }
   ],
   "source": [
    "# Learn models\n",
    "(VIM8, alphas8, prediction_score, stability_score, treeEstimators) = dynGENIE3(TS_data,time_points,  gene_names=gene_names,regulators=regulators,save_models=True)"
   ]
  },
  {
   "cell_type": "code",
   "execution_count": 15,
   "metadata": {},
   "outputs": [],
   "source": [
    "WT_data = np.load('WT_data.npy')"
   ]
  },
  {
   "cell_type": "code",
   "execution_count": 17,
   "metadata": {},
   "outputs": [],
   "source": [
    "from dynGENIE3 import dynGENIE3_predict_doubleKO"
   ]
  },
  {
   "cell_type": "code",
   "execution_count": 18,
   "metadata": {},
   "outputs": [
    {
     "name": "stdout",
     "output_type": "stream",
     "text": [
      "Predicting time series...\n",
      "Elapsed time: 2.90 seconds\n"
     ]
    }
   ],
   "source": [
    "TS_predict = dynGENIE3_predict_doubleKO(WT_data,treeEstimators, alphas8, gene_names,regulators,'CDH17','CD19',10,50)"
   ]
  },
  {
   "cell_type": "markdown",
   "metadata": {},
   "source": [
    "## Write the predictions"
   ]
  },
  {
   "cell_type": "code",
   "execution_count": 21,
   "metadata": {},
   "outputs": [],
   "source": [
    "from dynGENIE3 import get_link_list"
   ]
  },
  {
   "cell_type": "code",
   "execution_count": 22,
   "metadata": {
    "collapsed": true,
    "jupyter": {
     "outputs_hidden": true
    }
   },
   "outputs": [
    {
     "name": "stdout",
     "output_type": "stream",
     "text": [
      "G8\tG2\t0.389724\n",
      "G1\tG5\t0.272098\n",
      "G2\tG8\t0.263292\n",
      "G8\tG6\t0.250009\n",
      "G8\tG5\t0.209432\n",
      "G8\tG10\t0.206797\n",
      "G2\tG6\t0.203764\n",
      "G6\tG2\t0.195863\n",
      "G7\tG3\t0.192772\n",
      "G5\tG1\t0.184936\n",
      "G6\tG8\t0.180187\n",
      "G3\tG7\t0.169021\n",
      "G10\tG9\t0.153933\n",
      "G6\tG9\t0.150739\n",
      "G2\tG5\t0.142191\n",
      "G6\tG7\t0.141785\n",
      "G8\tG1\t0.135752\n",
      "G8\tG4\t0.135498\n",
      "G2\tG7\t0.134468\n",
      "G6\tG3\t0.133114\n",
      "G2\tG1\t0.132612\n",
      "G8\tG9\t0.130970\n",
      "G4\tG6\t0.127531\n",
      "G1\tG8\t0.122957\n",
      "G4\tG9\t0.122733\n",
      "G6\tG4\t0.122671\n",
      "G9\tG10\t0.120404\n",
      "G9\tG4\t0.119337\n",
      "G4\tG3\t0.118381\n",
      "G7\tG9\t0.118281\n",
      "G1\tG4\t0.117399\n",
      "G10\tG4\t0.115259\n",
      "G4\tG1\t0.115199\n",
      "G3\tG10\t0.114876\n",
      "G4\tG7\t0.113623\n",
      "G1\tG2\t0.113295\n",
      "G5\tG7\t0.113286\n",
      "G5\tG8\t0.109498\n",
      "G9\tG3\t0.109041\n",
      "G2\tG4\t0.108103\n",
      "G10\tG1\t0.106952\n",
      "G8\tG7\t0.104355\n",
      "G6\tG1\t0.103671\n",
      "G5\tG9\t0.103271\n",
      "G7\tG10\t0.102414\n",
      "G1\tG3\t0.101080\n",
      "G6\tG10\t0.099675\n",
      "G3\tG4\t0.097126\n",
      "G10\tG3\t0.096604\n",
      "G7\tG4\t0.095710\n",
      "G2\tG10\t0.094548\n",
      "G5\tG2\t0.093412\n",
      "G4\tG10\t0.090487\n",
      "G5\tG4\t0.088897\n",
      "G1\tG10\t0.088439\n",
      "G8\tG3\t0.087924\n",
      "G2\tG3\t0.087329\n",
      "G9\tG1\t0.083615\n",
      "G10\tG6\t0.083246\n",
      "G5\tG10\t0.082361\n",
      "G1\tG7\t0.081113\n",
      "G7\tG1\t0.080990\n",
      "G1\tG6\t0.078852\n",
      "G2\tG9\t0.076075\n",
      "G3\tG6\t0.074776\n",
      "G9\tG7\t0.074215\n",
      "G7\tG8\t0.074203\n",
      "G1\tG9\t0.073855\n",
      "G5\tG6\t0.073822\n",
      "G5\tG3\t0.073755\n",
      "G10\tG5\t0.073019\n",
      "G9\tG8\t0.072782\n",
      "G3\tG5\t0.071904\n",
      "G3\tG9\t0.070143\n",
      "G10\tG7\t0.068135\n",
      "G9\tG5\t0.066815\n",
      "G6\tG5\t0.066613\n",
      "G7\tG6\t0.064069\n",
      "G3\tG8\t0.061537\n",
      "G4\tG5\t0.059582\n",
      "G4\tG8\t0.058539\n",
      "G10\tG8\t0.057006\n",
      "G3\tG1\t0.056272\n",
      "G9\tG2\t0.055694\n",
      "G10\tG2\t0.048509\n",
      "G9\tG6\t0.043931\n",
      "G7\tG5\t0.038346\n",
      "G7\tG2\t0.037519\n",
      "G4\tG2\t0.037011\n",
      "G3\tG2\t0.028973\n"
     ]
    }
   ],
   "source": [
    "get_link_list(VIM)"
   ]
  },
  {
   "cell_type": "markdown",
   "metadata": {},
   "source": [
    "### Show the names of the genes"
   ]
  },
  {
   "cell_type": "code",
   "execution_count": 23,
   "metadata": {
    "collapsed": true,
    "jupyter": {
     "outputs_hidden": true
    }
   },
   "outputs": [
    {
     "name": "stdout",
     "output_type": "stream",
     "text": [
      "CREB5\tGATA5\t0.389724\n",
      "TBX3\tXRCC2\t0.272098\n",
      "GATA5\tCREB5\t0.263292\n",
      "CREB5\tCD93\t0.250009\n",
      "CREB5\tXRCC2\t0.209432\n",
      "CREB5\tRAD51\t0.206797\n",
      "GATA5\tCD93\t0.203764\n",
      "CD93\tGATA5\t0.195863\n",
      "OSR2\tZNF394\t0.192772\n",
      "XRCC2\tTBX3\t0.184936\n",
      "CD93\tCREB5\t0.180187\n",
      "ZNF394\tOSR2\t0.169021\n",
      "RAD51\tCD19\t0.153933\n",
      "CD93\tCD19\t0.150739\n",
      "GATA5\tXRCC2\t0.142191\n",
      "CD93\tOSR2\t0.141785\n",
      "CREB5\tTBX3\t0.135752\n",
      "CREB5\tCDH17\t0.135498\n",
      "GATA5\tOSR2\t0.134468\n",
      "CD93\tZNF394\t0.133114\n",
      "GATA5\tTBX3\t0.132612\n",
      "CREB5\tCD19\t0.130970\n",
      "CDH17\tCD93\t0.127531\n",
      "TBX3\tCREB5\t0.122957\n",
      "CDH17\tCD19\t0.122733\n",
      "CD93\tCDH17\t0.122671\n",
      "CD19\tRAD51\t0.120404\n",
      "CD19\tCDH17\t0.119337\n",
      "CDH17\tZNF394\t0.118381\n",
      "OSR2\tCD19\t0.118281\n",
      "TBX3\tCDH17\t0.117399\n",
      "RAD51\tCDH17\t0.115259\n",
      "CDH17\tTBX3\t0.115199\n",
      "ZNF394\tRAD51\t0.114876\n",
      "CDH17\tOSR2\t0.113623\n",
      "TBX3\tGATA5\t0.113295\n",
      "XRCC2\tOSR2\t0.113286\n",
      "XRCC2\tCREB5\t0.109498\n",
      "CD19\tZNF394\t0.109041\n",
      "GATA5\tCDH17\t0.108103\n",
      "RAD51\tTBX3\t0.106952\n",
      "CREB5\tOSR2\t0.104355\n",
      "CD93\tTBX3\t0.103671\n",
      "XRCC2\tCD19\t0.103271\n",
      "OSR2\tRAD51\t0.102414\n",
      "TBX3\tZNF394\t0.101080\n",
      "CD93\tRAD51\t0.099675\n",
      "ZNF394\tCDH17\t0.097126\n",
      "RAD51\tZNF394\t0.096604\n",
      "OSR2\tCDH17\t0.095710\n",
      "GATA5\tRAD51\t0.094548\n",
      "XRCC2\tGATA5\t0.093412\n",
      "CDH17\tRAD51\t0.090487\n",
      "XRCC2\tCDH17\t0.088897\n",
      "TBX3\tRAD51\t0.088439\n",
      "CREB5\tZNF394\t0.087924\n",
      "GATA5\tZNF394\t0.087329\n",
      "CD19\tTBX3\t0.083615\n",
      "RAD51\tCD93\t0.083246\n",
      "XRCC2\tRAD51\t0.082361\n",
      "TBX3\tOSR2\t0.081113\n",
      "OSR2\tTBX3\t0.080990\n",
      "TBX3\tCD93\t0.078852\n",
      "GATA5\tCD19\t0.076075\n",
      "ZNF394\tCD93\t0.074776\n",
      "CD19\tOSR2\t0.074215\n",
      "OSR2\tCREB5\t0.074203\n",
      "TBX3\tCD19\t0.073855\n",
      "XRCC2\tCD93\t0.073822\n",
      "XRCC2\tZNF394\t0.073755\n",
      "RAD51\tXRCC2\t0.073019\n",
      "CD19\tCREB5\t0.072782\n",
      "ZNF394\tXRCC2\t0.071904\n",
      "ZNF394\tCD19\t0.070143\n",
      "RAD51\tOSR2\t0.068135\n",
      "CD19\tXRCC2\t0.066815\n",
      "CD93\tXRCC2\t0.066613\n",
      "OSR2\tCD93\t0.064069\n",
      "ZNF394\tCREB5\t0.061537\n",
      "CDH17\tXRCC2\t0.059582\n",
      "CDH17\tCREB5\t0.058539\n",
      "RAD51\tCREB5\t0.057006\n",
      "ZNF394\tTBX3\t0.056272\n",
      "CD19\tGATA5\t0.055694\n",
      "RAD51\tGATA5\t0.048509\n",
      "CD19\tCD93\t0.043931\n",
      "OSR2\tXRCC2\t0.038346\n",
      "OSR2\tGATA5\t0.037519\n",
      "CDH17\tGATA5\t0.037011\n",
      "ZNF394\tGATA5\t0.028973\n"
     ]
    }
   ],
   "source": [
    "get_link_list(VIM,gene_names=gene_names)"
   ]
  },
  {
   "cell_type": "markdown",
   "metadata": {},
   "source": [
    "### Show only the links that are directed from the candidate regulators"
   ]
  },
  {
   "cell_type": "code",
   "execution_count": 24,
   "metadata": {},
   "outputs": [
    {
     "name": "stdout",
     "output_type": "stream",
     "text": [
      "TBX3\tXRCC2\t0.272098\n",
      "OSR2\tZNF394\t0.192772\n",
      "RAD51\tCD19\t0.153933\n",
      "CDH17\tCD93\t0.127531\n",
      "TBX3\tCREB5\t0.122957\n",
      "CDH17\tCD19\t0.122733\n",
      "CD19\tRAD51\t0.120404\n",
      "CD19\tCDH17\t0.119337\n",
      "CDH17\tZNF394\t0.118381\n",
      "OSR2\tCD19\t0.118281\n",
      "TBX3\tCDH17\t0.117399\n",
      "RAD51\tCDH17\t0.115259\n",
      "CDH17\tTBX3\t0.115199\n",
      "CDH17\tOSR2\t0.113623\n",
      "TBX3\tGATA5\t0.113295\n",
      "CD19\tZNF394\t0.109041\n",
      "RAD51\tTBX3\t0.106952\n",
      "OSR2\tRAD51\t0.102414\n",
      "TBX3\tZNF394\t0.101080\n",
      "RAD51\tZNF394\t0.096604\n",
      "OSR2\tCDH17\t0.095710\n",
      "CDH17\tRAD51\t0.090487\n",
      "TBX3\tRAD51\t0.088439\n",
      "CD19\tTBX3\t0.083615\n",
      "RAD51\tCD93\t0.083246\n",
      "TBX3\tOSR2\t0.081113\n",
      "OSR2\tTBX3\t0.080990\n",
      "TBX3\tCD93\t0.078852\n",
      "CD19\tOSR2\t0.074215\n",
      "OSR2\tCREB5\t0.074203\n",
      "TBX3\tCD19\t0.073855\n",
      "RAD51\tXRCC2\t0.073019\n",
      "CD19\tCREB5\t0.072782\n",
      "RAD51\tOSR2\t0.068135\n",
      "CD19\tXRCC2\t0.066815\n",
      "OSR2\tCD93\t0.064069\n",
      "CDH17\tXRCC2\t0.059582\n",
      "CDH17\tCREB5\t0.058539\n",
      "RAD51\tCREB5\t0.057006\n",
      "CD19\tGATA5\t0.055694\n",
      "RAD51\tGATA5\t0.048509\n",
      "CD19\tCD93\t0.043931\n",
      "OSR2\tXRCC2\t0.038346\n",
      "OSR2\tGATA5\t0.037519\n",
      "CDH17\tGATA5\t0.037011\n"
     ]
    }
   ],
   "source": [
    "get_link_list(VIM,gene_names=gene_names,regulators=regulators)"
   ]
  },
  {
   "cell_type": "markdown",
   "metadata": {},
   "source": [
    "### Show the first 5 links only"
   ]
  },
  {
   "cell_type": "code",
   "execution_count": 26,
   "metadata": {},
   "outputs": [
    {
     "name": "stdout",
     "output_type": "stream",
     "text": [
      "TBX3\tXRCC2\t0.272098\n",
      "OSR2\tZNF394\t0.192772\n",
      "RAD51\tCD19\t0.153933\n",
      "CDH17\tCD93\t0.127531\n",
      "TBX3\tCREB5\t0.122957\n"
     ]
    }
   ],
   "source": [
    "get_link_list(VIM,gene_names=gene_names,regulators=regulators,maxcount=5)"
   ]
  },
  {
   "cell_type": "markdown",
   "metadata": {},
   "source": [
    "### Write the predicted links in a file"
   ]
  },
  {
   "cell_type": "code",
   "execution_count": 27,
   "metadata": {},
   "outputs": [],
   "source": [
    "get_link_list(VIM,gene_names=gene_names, regulators=regulators,file_name='ranking.txt')"
   ]
  },
  {
   "cell_type": "code",
   "execution_count": null,
   "metadata": {},
   "outputs": [],
   "source": []
  }
 ],
 "metadata": {
  "kernelspec": {
   "display_name": "Python [conda env:python-env]",
   "language": "python",
   "name": "conda-env-python-env-py"
  },
  "language_info": {
   "codemirror_mode": {
    "name": "ipython",
    "version": 3
   },
   "file_extension": ".py",
   "mimetype": "text/x-python",
   "name": "python",
   "nbconvert_exporter": "python",
   "pygments_lexer": "ipython3",
   "version": "3.10.13"
  },
  "pycharm": {
   "stem_cell": {
    "cell_type": "raw",
    "metadata": {
     "collapsed": false
    },
    "source": []
   }
  },
  "toc": {
   "base_numbering": 1,
   "nav_menu": {},
   "number_sections": true,
   "sideBar": true,
   "skip_h1_title": false,
   "title_cell": "Table of Contents",
   "title_sidebar": "Contents",
   "toc_cell": false,
   "toc_position": {},
   "toc_section_display": true,
   "toc_window_display": true
  },
  "varInspector": {
   "cols": {
    "lenName": 16,
    "lenType": 16,
    "lenVar": 40
   },
   "kernels_config": {
    "python": {
     "delete_cmd_postfix": "",
     "delete_cmd_prefix": "del ",
     "library": "var_list.py",
     "varRefreshCmd": "print(var_dic_list())"
    },
    "r": {
     "delete_cmd_postfix": ") ",
     "delete_cmd_prefix": "rm(",
     "library": "var_list.r",
     "varRefreshCmd": "cat(var_dic_list()) "
    }
   },
   "types_to_exclude": [
    "module",
    "function",
    "builtin_function_or_method",
    "instance",
    "_Feature"
   ],
   "window_display": false
  }
 },
 "nbformat": 4,
 "nbformat_minor": 4
}
